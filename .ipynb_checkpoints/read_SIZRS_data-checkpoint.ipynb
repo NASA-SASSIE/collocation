{
 "cells": [
  {
   "cell_type": "markdown",
   "id": "e58a09aa-74dc-4f03-b8d7-447ea930097f",
   "metadata": {},
   "source": [
    "# read_SIZRS_data\n",
    "\n",
    "Load AXCTD data from the SIZRS experiment, convert to an xarray dataset, save as a .nc file\n",
    "(alternatively, this code could be put in a function to just read the raw data & convert to xarray dataset, without saving)\n",
    "\n",
    "info here:\n",
    "http://psc.apl.uw.edu/research/projects/sizrs/\n",
    "\n",
    "data are stored on google drive [here](https://drive.google.com/drive/folders/0B5_0Q9aVQm9gTzV0eVgyRkZ6cGM?resourcekey=0-SGB_gxxdIvTOKe_i9kYLWA), so there's no way to download them via commandline. Instead, I zipped the entire directory, downloaded it to my local machine, unzipped the files, and then uploaded them to github into the \"data\" folder. Note that .gitignore includes .txt, which means that the data shouldn't be automatically be pulled. To pull the data files, use \"git pull --force\"\n",
    "\n"
   ]
  },
  {
   "cell_type": "code",
   "execution_count": 1,
   "id": "66cfd682-c21d-4799-853a-3c281677547b",
   "metadata": {},
   "outputs": [],
   "source": [
    "# imports \n",
    "import sys\n",
    "import os\n",
    "import numpy as np\n",
    "import glob\n",
    "from datetime import datetime, time, date, timedelta\n",
    "import pandas as pd\n",
    "import xarray as xr\n",
    "\n",
    "# plotting stuff\n",
    "import cartopy\n",
    "import cartopy.crs as ccrs\n",
    "import matplotlib.pyplot as plt\n",
    "import matplotlib.cm as cm\n",
    "import matplotlib.ticker as mticker\n"
   ]
  },
  {
   "cell_type": "code",
   "execution_count": 2,
   "id": "5b96f8db-53a7-4a3b-9aeb-f5c2e42bdb37",
   "metadata": {},
   "outputs": [],
   "source": [
    "# directories - all of which sit within the repo\n",
    "sizrsdir = './data/AXCTD/'  # \n",
    "savedir = './process/'\n",
    "figdir = './figures/'\n",
    "\n",
    "# create these if they don't exist:\n",
    "for d in [sizrsdir, savedir, figdir]:\n",
    "    if not(os.path.isdir(d)):\n",
    "        os.mkdir(d)        "
   ]
  },
  {
   "cell_type": "code",
   "execution_count": 3,
   "id": "87cb5e05-86f2-4ef1-bc55-137ce854f95c",
   "metadata": {},
   "outputs": [],
   "source": [
    "# variables to store\n",
    "vbls = ['Temp', 'Salinity'] # also 'Sigma'\n",
    "# rename these variables for consistency with other code. Note that we're saving surface values only.\n",
    "vbls_save = ['SST', 'SSS']"
   ]
  },
  {
   "cell_type": "code",
   "execution_count": 4,
   "id": "a6577e0e-3b5f-4c55-8943-121f0961004f",
   "metadata": {},
   "outputs": [],
   "source": [
    "# we will extract data at the surface.... \n",
    "# but first let's take a look at the upper 10 m - regrid the data to \"zgrid\"\n",
    "z_extract = 0 # final depth of extraction\n",
    "zgrid = np.arange(0,5,0.1) # vertical grid for the first-look"
   ]
  },
  {
   "cell_type": "code",
   "execution_count": 5,
   "id": "c5ea24d5-27c7-4e91-9f0a-a3716d113925",
   "metadata": {},
   "outputs": [
    {
     "name": "stdout",
     "output_type": "stream",
     "text": [
      "initializeing xctd_thisyear for 2012\n",
      "./data/AXCTD/SIZRS_2012_AXCTDs/\n",
      "saving ./process/SIZRS_2012.nc\n",
      "initializeing xctd_thisyear for 2013\n",
      "./data/AXCTD/SIZRS_2013_AXCTDs/\n",
      "saving ./process/SIZRS_2013.nc\n",
      "initializeing xctd_thisyear for 2014\n",
      "./data/AXCTD/SIZRS_2014_AXCTDs/\n",
      "saving ./process/SIZRS_2014.nc\n",
      "initializeing xctd_thisyear for 2015\n",
      "./data/AXCTD/SIZRS_2015_AXCTDs/\n",
      "saving ./process/SIZRS_2015.nc\n",
      "initializeing xctd_thisyear for 2016\n",
      "./data/AXCTD/SIZRS_2016_AXCTDs/\n",
      "saving ./process/SIZRS_2016.nc\n",
      "initializeing xctd_thisyear for 2017\n",
      "./data/AXCTD/SIZRS_2017_AXCTDs/\n",
      "saving ./process/SIZRS_2017.nc\n",
      "initializeing xctd_thisyear for 2018\n",
      "./data/AXCTD/SIZRS_2018_AXCTDs/\n",
      "saving ./process/SIZRS_2018.nc\n",
      "initializeing xctd_thisyear for 2019\n",
      "./data/AXCTD/SIZRS_2019_AXCTDs/\n",
      "saving ./process/SIZRS_2019.nc\n"
     ]
    }
   ],
   "source": [
    "# year(s) and month(s) to process:\n",
    "# years from 2012 to 2019 and months 6-10 are typically available\n",
    "years = range(2012,2020)\n",
    "\n",
    "for year in years:\n",
    "    # initialize output array - one per year\n",
    "    print(f'initializeing xctd_thisyear for {year}')\n",
    "    xctd_thisyear = xr.Dataset(coords={'z':zgrid, 't':time})\n",
    "    # this year's data directory\n",
    "    thisdir = f'{sizrsdir}SIZRS_{year}_AXCTDs/'\n",
    "    print(thisdir)\n",
    "    # months in this year\n",
    "    monthdirs = sorted(glob.glob(thisdir + '*AXCTDs_*'))\n",
    "    mcnt = 0\n",
    "    for monthdir in monthdirs:\n",
    "        mcnt+=1\n",
    "        file_list = sorted(glob.glob(monthdir +  '*/AXCTD*.txt'))\n",
    "        for filename in file_list:\n",
    "            # load, skip the header, and close\n",
    "            # print(filename)\n",
    "            f = open(filename,'r')    \n",
    "            header = f.readlines()[0:13] \n",
    "            f.close()\n",
    "\n",
    "            # look for header line with lat/lon/date info\n",
    "            for r in range(np.size(header)):\n",
    "                i = header[r].find(\"North\")\n",
    "                if i>0:\n",
    "                    # TO DO:  make more generic with regexp or similar\n",
    "                    hsplit = header[r].split(\" \")\n",
    "                    if hsplit[1] == 'degrees': # some files are formatted like this\n",
    "                        lat = float(hsplit[0])\n",
    "                        lon = -1*(float(hsplit[5]))\n",
    "                        time = np.datetime64(datetime.strptime(hsplit[-2],'%Y-%m-%d/%H%M'))\n",
    "                    else: # some like this\n",
    "                        lat = float(hsplit[0]) + float(hsplit[2])/60\n",
    "                        lon = -1*(float(hsplit[6]) + float(hsplit[8])/60)\n",
    "                        time = np.datetime64(datetime.strptime(hsplit[-2],'%Y-%m-%d/%H%M'))\n",
    "\n",
    "            # load data into a pandas dataframe: \n",
    "            df = pd.read_csv(filename, sep='\\s+', skiprows=15, names=[\"Depth\", \"Pres\", \"Temp\", \"Cond\", \"Salinity\", \"Sigma\"])\n",
    "\n",
    "            # interpolate each variable to zgrid and store in the xarray dataset:\n",
    "            # add data to the new xarray dataset this_xctd\n",
    "            this_xctd = xr.Dataset(coords={'z':zgrid, 't':time, 'x':lon, 'y':lat})\n",
    "            for vbl in vbls:\n",
    "                this_xctd[vbl] = xr.DataArray(data=np.interp(zgrid, df['Depth'], df[vbl]), dims=['z'])\n",
    "\n",
    "           \n",
    "            # if this is the first file in the year, initialize the xr dataset and add time\n",
    "            if mcnt==1:\n",
    "                xctd_thisyear = xr.Dataset(coords={'z':zgrid, 't':time})\n",
    "                \n",
    "             # concatenate files\n",
    "            xctd_thisyear = xr.concat([xctd_thisyear, this_xctd], dim='t')\n",
    "\n",
    "    # at the end of each year, save to netcdf\n",
    "    SIZRS = xctd_thisyear.copy() # copy to a new dataset\n",
    "    SIZRS = SIZRS.sel(z=z_extract) # extract one depth (surface)\n",
    "    SIZRS = SIZRS.sortby('t')  # make sure times are sorted\n",
    "    SIZRS.t.encoding['units'] = 'days since 1900-01-01' # use consistent ref time for each file\n",
    "    # rename variables\n",
    "    for vi in range(len(vbls)):\n",
    "        SIZRS = SIZRS.rename_vars({vbls[vi]:vbls_save[vi]})\n",
    "\n",
    "    filename_out = f'{savedir}SIZRS_{np.datetime_as_string(time, unit=\"Y\")}.nc'\n",
    "    print(f'saving {filename_out}')\n",
    "    SIZRS.to_netcdf(filename_out)\n",
    "    \n",
    "    del(xctd_thisyear)"
   ]
  },
  {
   "cell_type": "code",
   "execution_count": 6,
   "id": "423e192f-8669-4667-83bb-e33e2af73c01",
   "metadata": {},
   "outputs": [
    {
     "ename": "NameError",
     "evalue": "name 'ds' is not defined",
     "output_type": "error",
     "traceback": [
      "\u001b[0;31m---------------------------------------------------------------------------\u001b[0m",
      "\u001b[0;31mNameError\u001b[0m                                 Traceback (most recent call last)",
      "Input \u001b[0;32mIn [6]\u001b[0m, in \u001b[0;36m<cell line: 1>\u001b[0;34m()\u001b[0m\n\u001b[0;32m----> 1\u001b[0m \u001b[43mds\u001b[49m\n",
      "\u001b[0;31mNameError\u001b[0m: name 'ds' is not defined"
     ]
    }
   ],
   "source": [
    "ds"
   ]
  },
  {
   "cell_type": "code",
   "execution_count": 7,
   "id": "13d8e6c1-3628-4e75-86e6-94fc96f8013d",
   "metadata": {},
   "outputs": [
    {
     "name": "stdout",
     "output_type": "stream",
     "text": [
      "./process/SIZRS_2019.nc\n",
      "<xarray.DataArray 't' (t: 28)>\n",
      "array(['2019-06-12T22:13:00.000000000', '2019-06-12T22:13:00.000000000',\n",
      "       '2019-07-10T19:38:00.000000512', '2019-07-10T20:08:00.000000000',\n",
      "       '2019-07-10T20:33:00.000000000', '2019-07-10T21:00:00.000000000',\n",
      "       '2019-07-10T21:33:59.999999488', '2019-08-14T21:20:59.999999488',\n",
      "       '2019-08-14T22:00:00.000000000', '2019-08-14T22:27:00.000000000',\n",
      "       '2019-08-14T22:54:00.000000512', '2019-08-14T23:16:00.000000000',\n",
      "       '2019-08-15T01:21:59.999999488', '2019-09-12T21:06:00.000000000',\n",
      "       '2019-09-12T21:31:00.000000000', '2019-09-12T22:00:00.000000000',\n",
      "       '2019-09-12T22:26:00.000000000', '2019-09-12T22:49:00.000000000',\n",
      "       '2019-09-12T23:17:00.000000000', '2019-09-12T23:42:00.000000000',\n",
      "       '2019-09-13T00:07:00.000000000', '2019-09-13T02:33:00.000000000',\n",
      "       '2019-10-10T18:06:00.000000000', '2019-10-10T18:31:00.000000000',\n",
      "       '2019-10-10T18:55:00.000000000', '2019-10-10T19:21:59.999999488',\n",
      "       '2019-10-10T19:49:00.000000000', '2019-10-10T20:16:00.000000000'],\n",
      "      dtype='datetime64[ns]')\n",
      "Coordinates:\n",
      "    y        (t) float64 ...\n",
      "    x        (t) float64 ...\n",
      "    z        float64 ...\n",
      "  * t        (t) datetime64[ns] 2019-06-12T22:13:00 ... 2019-10-10T20:16:00\n"
     ]
    },
    {
     "data": {
      "image/png": "[encoded data removed]",
      "text/plain": [
       "<Figure size 576x360 with 2 Axes>"
      ]
     },
     "metadata": {
      "needs_background": "light"
     },
     "output_type": "display_data"
    }
   ],
   "source": [
    "# check the files\n",
    "year = 2019\n",
    "filename = f'{savedir}SIZRS_{year}.nc'\n",
    "print(filename)\n",
    "ds = xr.open_dataset(filename)\n",
    "\n",
    "\n",
    "fig, axs = plt.subplots(1, 2, figsize=(8,5))\n",
    "\n",
    "for vi in [0,1]:\n",
    "    axx = axs[vi]\n",
    "    # axx.scatter(ds.x, ds.y, c=ds[vbls_save[vi]])\n",
    "    ds[vbls_save[vi]].plot(ax=axx, x='t')\n",
    "#     axx.plot(\n",
    "        \n",
    "#         np.transpose(xctd_thisyear[vbls[vi]].data), xctd_thisyear.z.data)\n",
    "#     axx.invert_yaxis()\n",
    "#     axx.set_title(f'{vbls[vi]} profiles')\n",
    "#     axx.set_ylabel('depth, m')\n",
    "\n",
    "print(ds.t)\n",
    "ds.close()\n"
   ]
  },
  {
   "cell_type": "code",
   "execution_count": null,
   "id": "7ed24d7a-35ba-4529-9a94-227923568607",
   "metadata": {},
   "outputs": [],
   "source": []
  }
 ],
 "metadata": {
  "kernelspec": {
   "display_name": "Python 3 (ipykernel)",
   "language": "python",
   "name": "python3"
  },
  "language_info": {
   "codemirror_mode": {
    "name": "ipython",
    "version": 3
   },
   "file_extension": ".py",
   "mimetype": "text/x-python",
   "name": "python",
   "nbconvert_exporter": "python",
   "pygments_lexer": "ipython3",
   "version": "3.9.12"
  }
 },
 "nbformat": 4,
 "nbformat_minor": 5
}
