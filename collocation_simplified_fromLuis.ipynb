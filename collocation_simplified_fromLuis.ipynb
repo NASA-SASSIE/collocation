{
 "cells": [
  {
   "cell_type": "code",
   "execution_count": 1,
   "id": "bb9f848b-9edb-473b-9525-bb4c17606d83",
   "metadata": {},
   "outputs": [],
   "source": [
    "# Imports\n",
    "import numpy as np\n",
    "import pandas as pd\n",
    "import xarray as xr\n",
    "from pathlib import Path\n",
    "from os.path import dirname, join\n",
    "from scipy.interpolate import RegularGridInterpolator\n",
    "\n",
    "# Earthdata\n",
    "from earthdata import DataCollections, DataGranules, Auth, Store"
   ]
  },
  {
   "cell_type": "markdown",
   "id": "f6f50f2b-1918-4112-a54e-020740d5d4d9",
   "metadata": {},
   "source": [
    "#### We are going to use [earthdata](https://github.com/nsidc/earthdata) to interact with CMR\n",
    "\n",
    "First we initialize Auth() to get the cloud credentials, if we have a `.netrc` file this can be done automatically"
   ]
  },
  {
   "cell_type": "code",
   "execution_count": 2,
   "id": "a994fae9-5cf5-4ef8-82f7-d52e40f23307",
   "metadata": {},
   "outputs": [
    {
     "name": "stdout",
     "output_type": "stream",
     "text": [
      "You're now authenticated with NASA Earthdata Login\n"
     ]
    }
   ],
   "source": [
    "auth = Auth().login(strategy='netrc')\n",
    "if auth.authenticated is None:\n",
    "    # we ask for credentials\n",
    "    auth.login()"
   ]
  },
  {
   "cell_type": "markdown",
   "id": "0460a888-1b17-45b5-a590-9dd78effea34",
   "metadata": {},
   "source": [
    "# Define important parameters"
   ]
  },
  {
   "cell_type": "code",
   "execution_count": 3,
   "id": "2b12dea2-e4db-4da0-8109-d5bfdcdfa232",
   "metadata": {
    "tags": []
   },
   "outputs": [],
   "source": [
    "# beaufort sea region\n",
    "lonrange = [-160, -130]\n",
    "latrange = [68, 80]\n",
    "bounding_box = (lonrange[0], latrange[0], lonrange[1], latrange[1])\n",
    "# Data collection short name\n",
    "ShortName_sss = \"SMAP_JPL_L3_SSS_CAP_8DAY-RUNNINGMEAN_V5\""
   ]
  },
  {
   "cell_type": "markdown",
   "id": "b3bbd1f0-8886-4dad-85cf-9847586378e6",
   "metadata": {
    "tags": []
   },
   "source": [
    "# Define paths and directories\n",
    "\n",
    "> NOTE: Change this to match your path"
   ]
  },
  {
   "cell_type": "code",
   "execution_count": 7,
   "id": "e70bc571-e39d-4121-81b1-0a997dbcf1f8",
   "metadata": {},
   "outputs": [],
   "source": [
    "insitu_dir=Path('/home/jovyan/Data/SASSIE/collocation/insitu')  \n",
    "output_dir=Path('/home/jovyan/Data/SASSIE/collocation/satellite/smap_jpl_l3')"
   ]
  },
  {
   "cell_type": "markdown",
   "id": "9a5e4d30-28fd-45d3-a593-398300057288",
   "metadata": {},
   "source": [
    "#### Querying CMR using `earthdata` to get the `concept_id` for the cloud hosted collection"
   ]
  },
  {
   "cell_type": "code",
   "execution_count": 8,
   "id": "918d2566-786b-4ae8-b520-570ac360ef67",
   "metadata": {},
   "outputs": [
    {
     "name": "stdout",
     "output_type": "stream",
     "text": [
      "C2208422957-POCLOUD\n"
     ]
    }
   ],
   "source": [
    "# See: https://github.com/nsidc/earthdata\n",
    "CollectionQuery = DataCollections().short_name(ShortName_sss).cloud_hosted(True)\n",
    "collections = CollectionQuery.get()\n",
    "\n",
    "for collection in collections:\n",
    "    concept_id = collection.concept_id()\n",
    "    print(concept_id)"
   ]
  },
  {
   "cell_type": "markdown",
   "id": "3596d298-91eb-4e41-b81f-d5768c0e527f",
   "metadata": {},
   "source": [
    "# Load in situ SIZRS file for 1 year"
   ]
  },
  {
   "cell_type": "code",
   "execution_count": 9,
   "id": "6646d7d6-38da-49ad-bf07-5931c1e7fc4d",
   "metadata": {},
   "outputs": [],
   "source": [
    "filename=str(insitu_dir) + '/SIZRS_2016.nc'\n",
    "insitu = xr.open_dataset(filename)"
   ]
  },
  {
   "cell_type": "code",
   "execution_count": 10,
   "id": "57aa337b-726a-456b-904f-caf6615e47f2",
   "metadata": {},
   "outputs": [
    {
     "data": {
      "text/plain": [
       "array(['2016-06-16T00:00:00.000000000', '2016-06-16T00:00:00.000000000',\n",
       "       '2016-06-16T00:00:00.000000000', '2016-06-16T00:00:00.000000000',\n",
       "       '2016-07-14T00:00:00.000000000', '2016-07-14T00:00:00.000000000',\n",
       "       '2016-07-14T00:00:00.000000000', '2016-07-14T00:00:00.000000000',\n",
       "       '2016-07-14T00:00:00.000000000', '2016-08-19T00:00:00.000000000',\n",
       "       '2016-08-19T00:00:00.000000000', '2016-09-15T00:00:00.000000000',\n",
       "       '2016-09-15T00:00:00.000000000', '2016-09-15T00:00:00.000000000',\n",
       "       '2016-09-15T00:00:00.000000000', '2016-09-15T00:00:00.000000000',\n",
       "       '2016-09-15T00:00:00.000000000', '2016-09-16T00:00:00.000000000',\n",
       "       '2016-09-16T00:00:00.000000000', '2016-09-16T00:00:00.000000000',\n",
       "       '2016-10-07T00:00:00.000000000', '2016-10-07T00:00:00.000000000',\n",
       "       '2016-10-07T00:00:00.000000000', '2016-10-07T00:00:00.000000000',\n",
       "       '2016-10-07T00:00:00.000000000', '2016-10-07T00:00:00.000000000'],\n",
       "      dtype='datetime64[ns]')"
      ]
     },
     "execution_count": 10,
     "metadata": {},
     "output_type": "execute_result"
    }
   ],
   "source": [
    "# round the time to the closest day\n",
    "days_from_insitu = pd.to_datetime(insitu.t).round('D')\n",
    "days = days_from_insitu.values\n",
    "days"
   ]
  },
  {
   "cell_type": "code",
   "execution_count": 11,
   "id": "dc4dd443-3385-4fdd-acf7-dd9482d4333b",
   "metadata": {},
   "outputs": [
    {
     "data": {
      "text/plain": [
       "{('2016-06-16T00:00:00.000000000', '2016-06-17T00:00:00.000000000'),\n",
       " ('2016-07-14T00:00:00.000000000', '2016-07-15T00:00:00.000000000'),\n",
       " ('2016-08-19T00:00:00.000000000', '2016-08-20T00:00:00.000000000'),\n",
       " ('2016-09-15T00:00:00.000000000', '2016-09-16T00:00:00.000000000'),\n",
       " ('2016-09-16T00:00:00.000000000', '2016-09-17T00:00:00.000000000'),\n",
       " ('2016-10-07T00:00:00.000000000', '2016-10-08T00:00:00.000000000')}"
      ]
     },
     "execution_count": 11,
     "metadata": {},
     "output_type": "execute_result"
    }
   ],
   "source": [
    "# we use a Set to avoid repeating queries to the same day\n",
    "date_ranges = set()\n",
    "for day in days:\n",
    "    start_date = str(day)\n",
    "    end_date = str(day + np.timedelta64(1, 'D'))\n",
    "    # or end_date = str(day + np.timedelta64(1, 'D') - np.timedelta64(1, 's')) for 23:59:59 of the same day, the \n",
    "    # search on CMR is the same.\n",
    "    date_range = (start_date, end_date)\n",
    "    date_ranges.add(date_range)\n",
    "date_ranges"
   ]
  },
  {
   "cell_type": "markdown",
   "id": "ddcd7acd-25a8-4c93-940e-ac69f429c7a1",
   "metadata": {},
   "source": [
    "#### We query CMR for the granules we want"
   ]
  },
  {
   "cell_type": "code",
   "execution_count": 12,
   "id": "e052a61c-eaae-4cbb-8c6c-8849fc04e626",
   "metadata": {},
   "outputs": [
    {
     "name": "stdout",
     "output_type": "stream",
     "text": [
      "date: ('2016-09-15T00:00:00.000000000', '2016-09-16T00:00:00.000000000') , total granules: 9, size(MB): 97.98\n",
      "date: ('2016-06-16T00:00:00.000000000', '2016-06-17T00:00:00.000000000') , total granules: 9, size(MB): 89.04\n",
      "date: ('2016-10-07T00:00:00.000000000', '2016-10-08T00:00:00.000000000') , total granules: 9, size(MB): 97.56\n",
      "date: ('2016-09-16T00:00:00.000000000', '2016-09-17T00:00:00.000000000') , total granules: 9, size(MB): 97.95\n",
      "date: ('2016-07-14T00:00:00.000000000', '2016-07-15T00:00:00.000000000') , total granules: 9, size(MB): 94.85\n",
      "date: ('2016-08-19T00:00:00.000000000', '2016-08-20T00:00:00.000000000') , total granules: 9, size(MB): 97.5\n"
     ]
    }
   ],
   "source": [
    "matching_granules = [] #list of granules to load\n",
    "\n",
    "for dt in date_ranges:\n",
    "    download_size = 0\n",
    "    GranuleQuery = DataGranules().parameters(\n",
    "        concept_id=concept_id,\n",
    "        bounding_box=bounding_box,\n",
    "        temporal=dt)\n",
    "    granules = GranuleQuery.get()\n",
    "    for granule in granules:\n",
    "        # we use extend to aggregate the results in the same list.\n",
    "        matching_granules.extend(granule.data_links(s3_only=True))\n",
    "        download_size += granule.size()\n",
    "    print(f\"date: {dt} , total granules: {len(granules)}, size(MB): {round(download_size, 2)}\")"
   ]
  },
  {
   "cell_type": "code",
   "execution_count": 13,
   "id": "e27835ea-2de7-41e0-a552-bb36bcee278e",
   "metadata": {},
   "outputs": [],
   "source": [
    "print(f\"Total granules found: {len(matching_granules)}\")"
   ]
  },
  {
   "cell_type": "code",
   "execution_count": 15,
   "id": "17f837f8-3ac3-40fa-ba08-40d0b18cb370",
   "metadata": {},
   "outputs": [
    {
     "data": {
      "text/plain": [
       "['s3://podaac-ops-cumulus-protected/SMAP_JPL_L3_SSS_CAP_8DAY-RUNNINGMEAN_V5/2016/251/SMAP_L3_SSS_20160911_8DAYS_V5.0.nc',\n",
       " 's3://podaac-ops-cumulus-protected/SMAP_JPL_L3_SSS_CAP_8DAY-RUNNINGMEAN_V5/2016/252/SMAP_L3_SSS_20160912_8DAYS_V5.0.nc',\n",
       " 's3://podaac-ops-cumulus-protected/SMAP_JPL_L3_SSS_CAP_8DAY-RUNNINGMEAN_V5/2016/253/SMAP_L3_SSS_20160913_8DAYS_V5.0.nc',\n",
       " 's3://podaac-ops-cumulus-protected/SMAP_JPL_L3_SSS_CAP_8DAY-RUNNINGMEAN_V5/2016/254/SMAP_L3_SSS_20160914_8DAYS_V5.0.nc',\n",
       " 's3://podaac-ops-cumulus-protected/SMAP_JPL_L3_SSS_CAP_8DAY-RUNNINGMEAN_V5/2016/255/SMAP_L3_SSS_20160915_8DAYS_V5.0.nc',\n",
       " 's3://podaac-ops-cumulus-protected/SMAP_JPL_L3_SSS_CAP_8DAY-RUNNINGMEAN_V5/2016/256/SMAP_L3_SSS_20160916_8DAYS_V5.0.nc',\n",
       " 's3://podaac-ops-cumulus-protected/SMAP_JPL_L3_SSS_CAP_8DAY-RUNNINGMEAN_V5/2016/257/SMAP_L3_SSS_20160917_8DAYS_V5.0.nc',\n",
       " 's3://podaac-ops-cumulus-protected/SMAP_JPL_L3_SSS_CAP_8DAY-RUNNINGMEAN_V5/2016/258/SMAP_L3_SSS_20160918_8DAYS_V5.0.nc',\n",
       " 's3://podaac-ops-cumulus-protected/SMAP_JPL_L3_SSS_CAP_8DAY-RUNNINGMEAN_V5/2016/259/SMAP_L3_SSS_20160919_8DAYS_V5.0.nc',\n",
       " 's3://podaac-ops-cumulus-protected/SMAP_JPL_L3_SSS_CAP_8DAY-RUNNINGMEAN_V5/2016/160/SMAP_L3_SSS_20160612_8DAYS_V5.0.nc',\n",
       " 's3://podaac-ops-cumulus-protected/SMAP_JPL_L3_SSS_CAP_8DAY-RUNNINGMEAN_V5/2016/161/SMAP_L3_SSS_20160613_8DAYS_V5.0.nc',\n",
       " 's3://podaac-ops-cumulus-protected/SMAP_JPL_L3_SSS_CAP_8DAY-RUNNINGMEAN_V5/2016/162/SMAP_L3_SSS_20160614_8DAYS_V5.0.nc',\n",
       " 's3://podaac-ops-cumulus-protected/SMAP_JPL_L3_SSS_CAP_8DAY-RUNNINGMEAN_V5/2016/163/SMAP_L3_SSS_20160615_8DAYS_V5.0.nc',\n",
       " 's3://podaac-ops-cumulus-protected/SMAP_JPL_L3_SSS_CAP_8DAY-RUNNINGMEAN_V5/2016/164/SMAP_L3_SSS_20160616_8DAYS_V5.0.nc',\n",
       " 's3://podaac-ops-cumulus-protected/SMAP_JPL_L3_SSS_CAP_8DAY-RUNNINGMEAN_V5/2016/165/SMAP_L3_SSS_20160617_8DAYS_V5.0.nc',\n",
       " 's3://podaac-ops-cumulus-protected/SMAP_JPL_L3_SSS_CAP_8DAY-RUNNINGMEAN_V5/2016/166/SMAP_L3_SSS_20160618_8DAYS_V5.0.nc',\n",
       " 's3://podaac-ops-cumulus-protected/SMAP_JPL_L3_SSS_CAP_8DAY-RUNNINGMEAN_V5/2016/167/SMAP_L3_SSS_20160619_8DAYS_V5.0.nc',\n",
       " 's3://podaac-ops-cumulus-protected/SMAP_JPL_L3_SSS_CAP_8DAY-RUNNINGMEAN_V5/2016/168/SMAP_L3_SSS_20160620_8DAYS_V5.0.nc',\n",
       " 's3://podaac-ops-cumulus-protected/SMAP_JPL_L3_SSS_CAP_8DAY-RUNNINGMEAN_V5/2016/273/SMAP_L3_SSS_20161003_8DAYS_V5.0.nc',\n",
       " 's3://podaac-ops-cumulus-protected/SMAP_JPL_L3_SSS_CAP_8DAY-RUNNINGMEAN_V5/2016/274/SMAP_L3_SSS_20161004_8DAYS_V5.0.nc',\n",
       " 's3://podaac-ops-cumulus-protected/SMAP_JPL_L3_SSS_CAP_8DAY-RUNNINGMEAN_V5/2016/275/SMAP_L3_SSS_20161005_8DAYS_V5.0.nc',\n",
       " 's3://podaac-ops-cumulus-protected/SMAP_JPL_L3_SSS_CAP_8DAY-RUNNINGMEAN_V5/2016/276/SMAP_L3_SSS_20161006_8DAYS_V5.0.nc',\n",
       " 's3://podaac-ops-cumulus-protected/SMAP_JPL_L3_SSS_CAP_8DAY-RUNNINGMEAN_V5/2016/277/SMAP_L3_SSS_20161007_8DAYS_V5.0.nc',\n",
       " 's3://podaac-ops-cumulus-protected/SMAP_JPL_L3_SSS_CAP_8DAY-RUNNINGMEAN_V5/2016/278/SMAP_L3_SSS_20161008_8DAYS_V5.0.nc',\n",
       " 's3://podaac-ops-cumulus-protected/SMAP_JPL_L3_SSS_CAP_8DAY-RUNNINGMEAN_V5/2016/279/SMAP_L3_SSS_20161009_8DAYS_V5.0.nc',\n",
       " 's3://podaac-ops-cumulus-protected/SMAP_JPL_L3_SSS_CAP_8DAY-RUNNINGMEAN_V5/2016/280/SMAP_L3_SSS_20161010_8DAYS_V5.0.nc',\n",
       " 's3://podaac-ops-cumulus-protected/SMAP_JPL_L3_SSS_CAP_8DAY-RUNNINGMEAN_V5/2016/281/SMAP_L3_SSS_20161011_8DAYS_V5.0.nc',\n",
       " 's3://podaac-ops-cumulus-protected/SMAP_JPL_L3_SSS_CAP_8DAY-RUNNINGMEAN_V5/2016/252/SMAP_L3_SSS_20160912_8DAYS_V5.0.nc',\n",
       " 's3://podaac-ops-cumulus-protected/SMAP_JPL_L3_SSS_CAP_8DAY-RUNNINGMEAN_V5/2016/253/SMAP_L3_SSS_20160913_8DAYS_V5.0.nc',\n",
       " 's3://podaac-ops-cumulus-protected/SMAP_JPL_L3_SSS_CAP_8DAY-RUNNINGMEAN_V5/2016/254/SMAP_L3_SSS_20160914_8DAYS_V5.0.nc',\n",
       " 's3://podaac-ops-cumulus-protected/SMAP_JPL_L3_SSS_CAP_8DAY-RUNNINGMEAN_V5/2016/255/SMAP_L3_SSS_20160915_8DAYS_V5.0.nc',\n",
       " 's3://podaac-ops-cumulus-protected/SMAP_JPL_L3_SSS_CAP_8DAY-RUNNINGMEAN_V5/2016/256/SMAP_L3_SSS_20160916_8DAYS_V5.0.nc',\n",
       " 's3://podaac-ops-cumulus-protected/SMAP_JPL_L3_SSS_CAP_8DAY-RUNNINGMEAN_V5/2016/257/SMAP_L3_SSS_20160917_8DAYS_V5.0.nc',\n",
       " 's3://podaac-ops-cumulus-protected/SMAP_JPL_L3_SSS_CAP_8DAY-RUNNINGMEAN_V5/2016/258/SMAP_L3_SSS_20160918_8DAYS_V5.0.nc',\n",
       " 's3://podaac-ops-cumulus-protected/SMAP_JPL_L3_SSS_CAP_8DAY-RUNNINGMEAN_V5/2016/259/SMAP_L3_SSS_20160919_8DAYS_V5.0.nc',\n",
       " 's3://podaac-ops-cumulus-protected/SMAP_JPL_L3_SSS_CAP_8DAY-RUNNINGMEAN_V5/2016/260/SMAP_L3_SSS_20160920_8DAYS_V5.0.nc',\n",
       " 's3://podaac-ops-cumulus-protected/SMAP_JPL_L3_SSS_CAP_8DAY-RUNNINGMEAN_V5/2016/188/SMAP_L3_SSS_20160710_8DAYS_V5.0.nc',\n",
       " 's3://podaac-ops-cumulus-protected/SMAP_JPL_L3_SSS_CAP_8DAY-RUNNINGMEAN_V5/2016/189/SMAP_L3_SSS_20160711_8DAYS_V5.0.nc',\n",
       " 's3://podaac-ops-cumulus-protected/SMAP_JPL_L3_SSS_CAP_8DAY-RUNNINGMEAN_V5/2016/190/SMAP_L3_SSS_20160712_8DAYS_V5.0.nc',\n",
       " 's3://podaac-ops-cumulus-protected/SMAP_JPL_L3_SSS_CAP_8DAY-RUNNINGMEAN_V5/2016/191/SMAP_L3_SSS_20160713_8DAYS_V5.0.nc',\n",
       " 's3://podaac-ops-cumulus-protected/SMAP_JPL_L3_SSS_CAP_8DAY-RUNNINGMEAN_V5/2016/192/SMAP_L3_SSS_20160714_8DAYS_V5.0.nc',\n",
       " 's3://podaac-ops-cumulus-protected/SMAP_JPL_L3_SSS_CAP_8DAY-RUNNINGMEAN_V5/2016/193/SMAP_L3_SSS_20160715_8DAYS_V5.0.nc',\n",
       " 's3://podaac-ops-cumulus-protected/SMAP_JPL_L3_SSS_CAP_8DAY-RUNNINGMEAN_V5/2016/194/SMAP_L3_SSS_20160716_8DAYS_V5.0.nc',\n",
       " 's3://podaac-ops-cumulus-protected/SMAP_JPL_L3_SSS_CAP_8DAY-RUNNINGMEAN_V5/2016/195/SMAP_L3_SSS_20160717_8DAYS_V5.0.nc',\n",
       " 's3://podaac-ops-cumulus-protected/SMAP_JPL_L3_SSS_CAP_8DAY-RUNNINGMEAN_V5/2016/196/SMAP_L3_SSS_20160718_8DAYS_V5.0.nc',\n",
       " 's3://podaac-ops-cumulus-protected/SMAP_JPL_L3_SSS_CAP_8DAY-RUNNINGMEAN_V5/2016/224/SMAP_L3_SSS_20160815_8DAYS_V5.0.nc',\n",
       " 's3://podaac-ops-cumulus-protected/SMAP_JPL_L3_SSS_CAP_8DAY-RUNNINGMEAN_V5/2016/225/SMAP_L3_SSS_20160816_8DAYS_V5.0.nc',\n",
       " 's3://podaac-ops-cumulus-protected/SMAP_JPL_L3_SSS_CAP_8DAY-RUNNINGMEAN_V5/2016/226/SMAP_L3_SSS_20160817_8DAYS_V5.0.nc',\n",
       " 's3://podaac-ops-cumulus-protected/SMAP_JPL_L3_SSS_CAP_8DAY-RUNNINGMEAN_V5/2016/227/SMAP_L3_SSS_20160818_8DAYS_V5.0.nc',\n",
       " 's3://podaac-ops-cumulus-protected/SMAP_JPL_L3_SSS_CAP_8DAY-RUNNINGMEAN_V5/2016/228/SMAP_L3_SSS_20160819_8DAYS_V5.0.nc',\n",
       " 's3://podaac-ops-cumulus-protected/SMAP_JPL_L3_SSS_CAP_8DAY-RUNNINGMEAN_V5/2016/229/SMAP_L3_SSS_20160820_8DAYS_V5.0.nc',\n",
       " 's3://podaac-ops-cumulus-protected/SMAP_JPL_L3_SSS_CAP_8DAY-RUNNINGMEAN_V5/2016/230/SMAP_L3_SSS_20160821_8DAYS_V5.0.nc',\n",
       " 's3://podaac-ops-cumulus-protected/SMAP_JPL_L3_SSS_CAP_8DAY-RUNNINGMEAN_V5/2016/231/SMAP_L3_SSS_20160822_8DAYS_V5.0.nc',\n",
       " 's3://podaac-ops-cumulus-protected/SMAP_JPL_L3_SSS_CAP_8DAY-RUNNINGMEAN_V5/2016/232/SMAP_L3_SSS_20160823_8DAYS_V5.0.nc']"
      ]
     },
     "execution_count": 15,
     "metadata": {},
     "output_type": "execute_result"
    }
   ],
   "source": [
    "matching_granules"
   ]
  },
  {
   "cell_type": "markdown",
   "id": "d95d0bf2-fb0b-4e19-a990-0f546b90c518",
   "metadata": {},
   "source": [
    "### We use earthdata to get a S3FS session for the PODAAC cloud data\n",
    "> NOTE: This session is valid for 1 hour"
   ]
  },
  {
   "cell_type": "code",
   "execution_count": null,
   "id": "91f4737d-36d6-475e-9548-f4fa31681124",
   "metadata": {},
   "outputs": [],
   "source": [
    "# IMPORTANT: This session will be valid for 1 hour\n",
    "fs = Store(auth).get_s3fs_session('POCLOUD')\n",
    "fs"
   ]
  },
  {
   "cell_type": "markdown",
   "id": "53b87b30-127e-4d25-92d8-2f7a3d6cb314",
   "metadata": {},
   "source": [
    "# Opening the files directly in S3!\n",
    "> NOTE: this could take up to ~1 minute the first time\n",
    "\n",
    "We are opening the files via s3fs and xarray is doing a subsetting on-the-fly, this is possible because we're working with L3 data in a format xarray understands. "
   ]
  },
  {
   "cell_type": "code",
   "execution_count": null,
   "id": "c2150861-c392-4c1a-b8ce-221c7dca8d66",
   "metadata": {
    "tags": []
   },
   "outputs": [],
   "source": [
    "%%time\n",
    "# we open the files in the cloud and pass the S3FS fileset to xarray\n",
    "fileset = [fs.open(s3_granule )for s3_granule in matching_granules]\n",
    "\n",
    "ds_smap_L3 = xr.open_mfdataset(\n",
    "    fileset,\n",
    "    combine='nested',\n",
    "    concat_dim='time',\n",
    "    decode_cf=True,\n",
    "    coords='minimal',\n",
    "    chunks={'time': 1}\n",
    "    ).sel(longitude=slice(lonrange[0],lonrange[1]), latitude=slice(latrange[1],latrange[0]))\n",
    "ds_smap_L3"
   ]
  },
  {
   "cell_type": "code",
   "execution_count": null,
   "id": "f08b0a7f-8708-46da-b8e1-dd366593b2f6",
   "metadata": {},
   "outputs": [],
   "source": [
    "# We can create a deduplicated dataset.\n",
    "# only one granule per time point so we can plot it with xarray using the time dimension\n",
    "unique_ts_ds = ds_smap_L3.sel(time=~ds_smap_L3.indexes['time'].duplicated())\n",
    "unique_ts_ds"
   ]
  },
  {
   "cell_type": "markdown",
   "id": "1107eda7-0de6-405e-9159-bf02a36b01af",
   "metadata": {},
   "source": [
    "### We plot a variable\n",
    "\n",
    "> NOTE: plotting using xarray can take considerable memory, restarting the kernel after plotting is a good idea.\n",
    "\n",
    "From here we can do all the other xarray operations."
   ]
  },
  {
   "cell_type": "code",
   "execution_count": null,
   "id": "45088843-53bc-4a3a-b784-73fc95b0219d",
   "metadata": {},
   "outputs": [],
   "source": [
    "unique_ts_ds.smap_sss.plot.pcolormesh(\n",
    "    \"longitude\",\n",
    "    \"latitude\",\n",
    "    col=\"time\",\n",
    "    col_wrap=3,\n",
    "    robust=True,\n",
    "    add_colorbar=False\n",
    ")"
   ]
  }
 ],
 "metadata": {
  "kernelspec": {
   "display_name": "Python 3 (ipykernel)",
   "language": "python",
   "name": "python3"
  },
  "language_info": {
   "codemirror_mode": {
    "name": "ipython",
    "version": 3
   },
   "file_extension": ".py",
   "mimetype": "text/x-python",
   "name": "python",
   "nbconvert_exporter": "python",
   "pygments_lexer": "ipython3",
   "version": "3.9.12"
  }
 },
 "nbformat": 4,
 "nbformat_minor": 5
}
